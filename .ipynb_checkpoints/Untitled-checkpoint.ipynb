{
 "cells": [
  {
   "cell_type": "code",
   "execution_count": 1,
   "id": "66325b92",
   "metadata": {
    "scrolled": true
   },
   "outputs": [
    {
     "name": "stdout",
     "output_type": "stream",
     "text": [
      "WARNING:tensorflow:From C:\\Users\\Bhavesh gupta\\AppData\\Local\\Programs\\Python\\Python310\\lib\\site-packages\\keras\\src\\losses.py:2976: The name tf.losses.sparse_softmax_cross_entropy is deprecated. Please use tf.compat.v1.losses.sparse_softmax_cross_entropy instead.\n",
      "\n"
     ]
    }
   ],
   "source": [
    "import pandas as pd\n",
    "import numpy as np\n",
    "%matplotlib inline\n",
    "import matplotlib. pyplot as plt\n",
    "import matplotlib\n",
    "from sklearn.preprocessing import MinMaxScaler\n",
    "from sklearn.model_selection import TimeSeriesSplit\n",
    "from sklearn.metrics import mean_squared_error, r2_score\n",
    "import matplotlib. dates as mandates\n",
    "from sklearn.preprocessing import MinMaxScaler\n",
    "from sklearn import linear_model\n",
    "from keras.models import Sequential\n",
    "from keras.layers import Dense\n",
    "import keras.backend as K\n",
    "from keras.callbacks import EarlyStopping\n",
    "from keras.optimizers import Adam\n",
    "from keras.models import load_model\n",
    "from keras.layers import LSTM\n",
    "from keras.layers import LSTM, Dense, Dropout\n",
    "from tensorflow.keras.utils import plot_model"
   ]
  },
  {
   "cell_type": "code",
   "execution_count": 2,
   "id": "43e52fec",
   "metadata": {},
   "outputs": [],
   "source": [
    "df=pd.read_csv(\"TCS.csv\",na_values=['null'],index_col='Date',parse_dates=True,infer_datetime_format=True)"
   ]
  },
  {
   "cell_type": "code",
   "execution_count": 3,
   "id": "479c1f50",
   "metadata": {
    "scrolled": false
   },
   "outputs": [
    {
     "data": {
      "text/html": [
       "<div>\n",
       "<style scoped>\n",
       "    .dataframe tbody tr th:only-of-type {\n",
       "        vertical-align: middle;\n",
       "    }\n",
       "\n",
       "    .dataframe tbody tr th {\n",
       "        vertical-align: top;\n",
       "    }\n",
       "\n",
       "    .dataframe thead th {\n",
       "        text-align: right;\n",
       "    }\n",
       "</style>\n",
       "<table border=\"1\" class=\"dataframe\">\n",
       "  <thead>\n",
       "    <tr style=\"text-align: right;\">\n",
       "      <th></th>\n",
       "      <th>Symbol</th>\n",
       "      <th>Series</th>\n",
       "      <th>Prev Close</th>\n",
       "      <th>Open</th>\n",
       "      <th>High</th>\n",
       "      <th>Low</th>\n",
       "      <th>Last</th>\n",
       "      <th>Close</th>\n",
       "      <th>VWAP</th>\n",
       "      <th>Volume</th>\n",
       "      <th>Turnover</th>\n",
       "      <th>Trades</th>\n",
       "      <th>Deliverable Volume</th>\n",
       "      <th>%Deliverble</th>\n",
       "    </tr>\n",
       "    <tr>\n",
       "      <th>Date</th>\n",
       "      <th></th>\n",
       "      <th></th>\n",
       "      <th></th>\n",
       "      <th></th>\n",
       "      <th></th>\n",
       "      <th></th>\n",
       "      <th></th>\n",
       "      <th></th>\n",
       "      <th></th>\n",
       "      <th></th>\n",
       "      <th></th>\n",
       "      <th></th>\n",
       "      <th></th>\n",
       "      <th></th>\n",
       "    </tr>\n",
       "  </thead>\n",
       "  <tbody>\n",
       "    <tr>\n",
       "      <th>2004-08-25</th>\n",
       "      <td>TCS</td>\n",
       "      <td>EQ</td>\n",
       "      <td>850.00</td>\n",
       "      <td>1198.7</td>\n",
       "      <td>1198.7</td>\n",
       "      <td>979.00</td>\n",
       "      <td>985.00</td>\n",
       "      <td>987.95</td>\n",
       "      <td>1008.32</td>\n",
       "      <td>17116372</td>\n",
       "      <td>1.725876e+15</td>\n",
       "      <td>NaN</td>\n",
       "      <td>5206360</td>\n",
       "      <td>0.3042</td>\n",
       "    </tr>\n",
       "    <tr>\n",
       "      <th>2004-08-26</th>\n",
       "      <td>TCS</td>\n",
       "      <td>EQ</td>\n",
       "      <td>987.95</td>\n",
       "      <td>992.0</td>\n",
       "      <td>997.0</td>\n",
       "      <td>975.30</td>\n",
       "      <td>976.85</td>\n",
       "      <td>979.00</td>\n",
       "      <td>985.65</td>\n",
       "      <td>5055400</td>\n",
       "      <td>4.982865e+14</td>\n",
       "      <td>NaN</td>\n",
       "      <td>1294899</td>\n",
       "      <td>0.2561</td>\n",
       "    </tr>\n",
       "    <tr>\n",
       "      <th>2004-08-27</th>\n",
       "      <td>TCS</td>\n",
       "      <td>EQ</td>\n",
       "      <td>979.00</td>\n",
       "      <td>982.4</td>\n",
       "      <td>982.4</td>\n",
       "      <td>958.55</td>\n",
       "      <td>961.20</td>\n",
       "      <td>962.65</td>\n",
       "      <td>969.94</td>\n",
       "      <td>3830750</td>\n",
       "      <td>3.715586e+14</td>\n",
       "      <td>NaN</td>\n",
       "      <td>976527</td>\n",
       "      <td>0.2549</td>\n",
       "    </tr>\n",
       "    <tr>\n",
       "      <th>2004-08-30</th>\n",
       "      <td>TCS</td>\n",
       "      <td>EQ</td>\n",
       "      <td>962.65</td>\n",
       "      <td>969.9</td>\n",
       "      <td>990.0</td>\n",
       "      <td>965.00</td>\n",
       "      <td>986.40</td>\n",
       "      <td>986.75</td>\n",
       "      <td>982.65</td>\n",
       "      <td>3058151</td>\n",
       "      <td>3.005106e+14</td>\n",
       "      <td>NaN</td>\n",
       "      <td>701664</td>\n",
       "      <td>0.2294</td>\n",
       "    </tr>\n",
       "    <tr>\n",
       "      <th>2004-08-31</th>\n",
       "      <td>TCS</td>\n",
       "      <td>EQ</td>\n",
       "      <td>986.75</td>\n",
       "      <td>986.5</td>\n",
       "      <td>990.0</td>\n",
       "      <td>976.00</td>\n",
       "      <td>987.80</td>\n",
       "      <td>988.10</td>\n",
       "      <td>982.18</td>\n",
       "      <td>2649332</td>\n",
       "      <td>2.602133e+14</td>\n",
       "      <td>NaN</td>\n",
       "      <td>695234</td>\n",
       "      <td>0.2624</td>\n",
       "    </tr>\n",
       "  </tbody>\n",
       "</table>\n",
       "</div>"
      ],
      "text/plain": [
       "           Symbol Series  Prev Close    Open    High     Low    Last   Close  \\\n",
       "Date                                                                           \n",
       "2004-08-25    TCS     EQ      850.00  1198.7  1198.7  979.00  985.00  987.95   \n",
       "2004-08-26    TCS     EQ      987.95   992.0   997.0  975.30  976.85  979.00   \n",
       "2004-08-27    TCS     EQ      979.00   982.4   982.4  958.55  961.20  962.65   \n",
       "2004-08-30    TCS     EQ      962.65   969.9   990.0  965.00  986.40  986.75   \n",
       "2004-08-31    TCS     EQ      986.75   986.5   990.0  976.00  987.80  988.10   \n",
       "\n",
       "               VWAP    Volume      Turnover  Trades  Deliverable Volume  \\\n",
       "Date                                                                      \n",
       "2004-08-25  1008.32  17116372  1.725876e+15     NaN             5206360   \n",
       "2004-08-26   985.65   5055400  4.982865e+14     NaN             1294899   \n",
       "2004-08-27   969.94   3830750  3.715586e+14     NaN              976527   \n",
       "2004-08-30   982.65   3058151  3.005106e+14     NaN              701664   \n",
       "2004-08-31   982.18   2649332  2.602133e+14     NaN              695234   \n",
       "\n",
       "            %Deliverble  \n",
       "Date                     \n",
       "2004-08-25       0.3042  \n",
       "2004-08-26       0.2561  \n",
       "2004-08-27       0.2549  \n",
       "2004-08-30       0.2294  \n",
       "2004-08-31       0.2624  "
      ]
     },
     "execution_count": 3,
     "metadata": {},
     "output_type": "execute_result"
    }
   ],
   "source": [
    "df.head()"
   ]
  },
  {
   "cell_type": "code",
   "execution_count": 4,
   "id": "28abce5c",
   "metadata": {},
   "outputs": [
    {
     "data": {
      "text/plain": [
       "(4139, 14)"
      ]
     },
     "execution_count": 4,
     "metadata": {},
     "output_type": "execute_result"
    }
   ],
   "source": [
    "df.shape"
   ]
  },
  {
   "cell_type": "code",
   "execution_count": 5,
   "id": "69032618",
   "metadata": {
    "scrolled": true
   },
   "outputs": [
    {
     "data": {
      "text/plain": [
       "True"
      ]
     },
     "execution_count": 5,
     "metadata": {},
     "output_type": "execute_result"
    }
   ],
   "source": [
    "df.isnull().values.any()"
   ]
  },
  {
   "cell_type": "code",
   "execution_count": 6,
   "id": "05a9e1ec",
   "metadata": {},
   "outputs": [
    {
     "data": {
      "text/plain": [
       "<AxesSubplot: xlabel='Date'>"
      ]
     },
     "execution_count": 6,
     "metadata": {},
     "output_type": "execute_result"
    },
    {
     "data": {
      "image/png": "[encoded data removed]",
      "text/plain": [
       "<Figure size 432x288 with 1 Axes>"
      ]
     },
     "metadata": {
      "needs_background": "light"
     },
     "output_type": "display_data"
    }
   ],
   "source": [
    "df['Prev Close'].plot()"
   ]
  },
  {
   "cell_type": "code",
   "execution_count": 7,
   "id": "b85b1605",
   "metadata": {},
   "outputs": [],
   "source": [
    "features = ['Open', 'High', 'Low', 'Volume']\n",
    "output_var = pd.DataFrame(df['Prev Close'])"
   ]
  },
  {
   "cell_type": "code",
   "execution_count": 8,
   "id": "3799983e",
   "metadata": {
    "scrolled": true
   },
   "outputs": [
    {
     "data": {
      "text/html": [
       "<div>\n",
       "<style scoped>\n",
       "    .dataframe tbody tr th:only-of-type {\n",
       "        vertical-align: middle;\n",
       "    }\n",
       "\n",
       "    .dataframe tbody tr th {\n",
       "        vertical-align: top;\n",
       "    }\n",
       "\n",
       "    .dataframe thead th {\n",
       "        text-align: right;\n",
       "    }\n",
       "</style>\n",
       "<table border=\"1\" class=\"dataframe\">\n",
       "  <thead>\n",
       "    <tr style=\"text-align: right;\">\n",
       "      <th></th>\n",
       "      <th>Open</th>\n",
       "      <th>High</th>\n",
       "      <th>Low</th>\n",
       "      <th>Volume</th>\n",
       "    </tr>\n",
       "    <tr>\n",
       "      <th>Date</th>\n",
       "      <th></th>\n",
       "      <th></th>\n",
       "      <th></th>\n",
       "      <th></th>\n",
       "    </tr>\n",
       "  </thead>\n",
       "  <tbody>\n",
       "    <tr>\n",
       "      <th>2004-08-25</th>\n",
       "      <td>0.256876</td>\n",
       "      <td>0.248995</td>\n",
       "      <td>0.193184</td>\n",
       "      <td>0.388457</td>\n",
       "    </tr>\n",
       "    <tr>\n",
       "      <th>2004-08-26</th>\n",
       "      <td>0.193568</td>\n",
       "      <td>0.187819</td>\n",
       "      <td>0.192033</td>\n",
       "      <td>0.114439</td>\n",
       "    </tr>\n",
       "    <tr>\n",
       "      <th>2004-08-27</th>\n",
       "      <td>0.190628</td>\n",
       "      <td>0.183391</td>\n",
       "      <td>0.186822</td>\n",
       "      <td>0.086616</td>\n",
       "    </tr>\n",
       "    <tr>\n",
       "      <th>2004-08-30</th>\n",
       "      <td>0.186799</td>\n",
       "      <td>0.185696</td>\n",
       "      <td>0.188829</td>\n",
       "      <td>0.069063</td>\n",
       "    </tr>\n",
       "    <tr>\n",
       "      <th>2004-08-31</th>\n",
       "      <td>0.191884</td>\n",
       "      <td>0.185696</td>\n",
       "      <td>0.192251</td>\n",
       "      <td>0.059774</td>\n",
       "    </tr>\n",
       "  </tbody>\n",
       "</table>\n",
       "</div>"
      ],
      "text/plain": [
       "                Open      High       Low    Volume\n",
       "Date                                              \n",
       "2004-08-25  0.256876  0.248995  0.193184  0.388457\n",
       "2004-08-26  0.193568  0.187819  0.192033  0.114439\n",
       "2004-08-27  0.190628  0.183391  0.186822  0.086616\n",
       "2004-08-30  0.186799  0.185696  0.188829  0.069063\n",
       "2004-08-31  0.191884  0.185696  0.192251  0.059774"
      ]
     },
     "execution_count": 8,
     "metadata": {},
     "output_type": "execute_result"
    }
   ],
   "source": [
    "scaler = MinMaxScaler()\n",
    "feature_transform = scaler.fit_transform(df[features])\n",
    "feature_transform= pd.DataFrame(columns=features, data=feature_transform, index=df.index)\n",
    "feature_transform.head()"
   ]
  },
  {
   "cell_type": "code",
   "execution_count": 9,
   "id": "a38024ab",
   "metadata": {},
   "outputs": [],
   "source": [
    "timesplit= TimeSeriesSplit(n_splits=10)\n",
    "for train_index, test_index in timesplit.split(feature_transform):\n",
    "        X_train, X_test = feature_transform[:len(train_index)], feature_transform[len(train_index): (len(train_index)+len(test_index))]\n",
    "        y_train, y_test = output_var[:len(train_index)].values.ravel(), output_var[len(train_index): (len(train_index)+len(test_index))].values.ravel()"
   ]
  },
  {
   "cell_type": "code",
   "execution_count": 10,
   "id": "4667de65",
   "metadata": {},
   "outputs": [],
   "source": [
    "import tensorflow"
   ]
  },
  {
   "cell_type": "code",
   "execution_count": 11,
   "id": "4584341a",
   "metadata": {
    "scrolled": true
   },
   "outputs": [],
   "source": [
    "trainX = np.array(X_train)\n",
    "testX = np.array(X_test)\n",
    "X_train = trainX.reshape(X_train.shape[0], 1, X_train.shape[1])\n",
    "X_test = testX.reshape(X_test.shape[0], 1, X_test.shape[1])\n"
   ]
  },
  {
   "cell_type": "code",
   "execution_count": 12,
   "id": "694ec81f",
   "metadata": {},
   "outputs": [
    {
     "name": "stdout",
     "output_type": "stream",
     "text": [
      "WARNING:tensorflow:From C:\\Users\\Bhavesh gupta\\AppData\\Local\\Programs\\Python\\Python310\\lib\\site-packages\\keras\\src\\backend.py:873: The name tf.get_default_graph is deprecated. Please use tf.compat.v1.get_default_graph instead.\n",
      "\n",
      "WARNING:tensorflow:From C:\\Users\\Bhavesh gupta\\AppData\\Local\\Programs\\Python\\Python310\\lib\\site-packages\\keras\\src\\optimizers\\__init__.py:309: The name tf.train.Optimizer is deprecated. Please use tf.compat.v1.train.Optimizer instead.\n",
      "\n"
     ]
    }
   ],
   "source": [
    "lstm = Sequential()\n",
    "lstm.add(LSTM(32, input_shape=(1, trainX.shape[1]), activation='relu', return_sequences=False))\n",
    "lstm.add(Dense(1))\n",
    "lstm.compile(loss='mean_squared_error', optimizer='adam')"
   ]
  },
  {
   "cell_type": "code",
   "execution_count": 1,
   "id": "d27cda6b",
   "metadata": {},
   "outputs": [
    {
     "ename": "NameError",
     "evalue": "name 'lstm' is not defined",
     "output_type": "error",
     "traceback": [
      "\u001b[1;31m---------------------------------------------------------------------------\u001b[0m",
      "\u001b[1;31mNameError\u001b[0m                                 Traceback (most recent call last)",
      "Input \u001b[1;32mIn [1]\u001b[0m, in \u001b[0;36m<cell line: 1>\u001b[1;34m()\u001b[0m\n\u001b[1;32m----> 1\u001b[0m y_pred\u001b[38;5;241m=\u001b[39m \u001b[43mlstm\u001b[49m\u001b[38;5;241m.\u001b[39mfit(trainX, trainY, epochs\u001b[38;5;241m=\u001b[39m\u001b[38;5;241m100\u001b[39m, batch_size\u001b[38;5;241m=\u001b[39m\u001b[38;5;241m32\u001b[39m, validation_data\u001b[38;5;241m=\u001b[39m(testX, testY), verbose\u001b[38;5;241m=\u001b[39m\u001b[38;5;241m1\u001b[39m)\n",
      "\u001b[1;31mNameError\u001b[0m: name 'lstm' is not defined"
     ]
    }
   ],
   "source": [
    "y_pred= lstm.fit(trainX, trainY, epochs=100, batch_size=32, validation_data=(testX, testY), verbose=1)"
   ]
  },
  {
   "cell_type": "code",
   "execution_count": 14,
   "id": "ca508b4a",
   "metadata": {},
   "outputs": [
    {
     "name": "stdout",
     "output_type": "stream",
     "text": [
      "You must install pydot (`pip install pydot`) and install graphviz (see instructions at https://graphviz.gitlab.io/download/) for plot_model to work.\n"
     ]
    }
   ],
   "source": [
    "plot_model(lstm, show_shapes=True, show_layer_names=True)"
   ]
  },
  {
   "cell_type": "code",
   "execution_count": 15,
   "id": "4169083f",
   "metadata": {},
   "outputs": [
    {
     "data": {
      "image/png": "[encoded data removed]",
      "text/plain": [
       "<Figure size 432x288 with 1 Axes>"
      ]
     },
     "metadata": {
      "needs_background": "light"
     },
     "output_type": "display_data"
    }
   ],
   "source": [
    "plt.plot(y_test, label='True Value')\n",
    "plt.plot(y_pred, label='LSTM Value')\n",
    "plt.title('Prediction by LST')\n",
    "plt.xlabel('Time Scale')\n",
    "plt.ylabel('Scaled USD')\n",
    "plt.legend()\n",
    "plt.show()"
   ]
  }
 ],
 "metadata": {
  "kernelspec": {
   "display_name": "Python 3 (ipykernel)",
   "language": "python",
   "name": "python3"
  },
  "language_info": {
   "codemirror_mode": {
    "name": "ipython",
    "version": 3
   },
   "file_extension": ".py",
   "mimetype": "text/x-python",
   "name": "python",
   "nbconvert_exporter": "python",
   "pygments_lexer": "ipython3",
   "version": "3.10.4"
  }
 },
 "nbformat": 4,
 "nbformat_minor": 5
}
