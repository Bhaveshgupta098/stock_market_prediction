{
 "cells": [
  {
   "cell_type": "code",
   "execution_count": 2,
   "id": "66325b92",
   "metadata": {
    "scrolled": true
   },
   "outputs": [
    {
     "name": "stdout",
     "output_type": "stream",
     "text": [
      "WARNING:tensorflow:From C:\\Users\\Bhavesh gupta\\AppData\\Local\\Programs\\Python\\Python310\\lib\\site-packages\\keras\\src\\losses.py:2976: The name tf.losses.sparse_softmax_cross_entropy is deprecated. Please use tf.compat.v1.losses.sparse_softmax_cross_entropy instead.\n",
      "\n"
     ]
    }
   ],
   "source": [
    "import pandas as pd\n",
    "import numpy as np\n",
    "%matplotlib inline\n",
    "import matplotlib. pyplot as plt\n",
    "import matplotlib\n",
    "from sklearn.preprocessing import MinMaxScaler\n",
    "from sklearn.model_selection import TimeSeriesSplit\n",
    "from sklearn.metrics import mean_squared_error, r2_score\n",
    "import matplotlib. dates as mandates\n",
    "from sklearn.preprocessing import MinMaxScaler\n",
    "from sklearn import linear_model\n",
    "from keras.models import Sequential\n",
    "from keras.layers import Dense\n",
    "import keras.backend as K\n",
    "from keras.callbacks import EarlyStopping\n",
    "from keras.optimizers import Adam\n",
    "from keras.models import load_model\n",
    "from keras.layers import LSTM\n",
    "from keras.layers import LSTM, Dense, Dropout\n",
    "from tensorflow.keras.utils import plot_model"
   ]
  },
  {
   "cell_type": "code",
   "execution_count": 4,
   "id": "43e52fec",
   "metadata": {
    "scrolled": true
   },
   "outputs": [],
   "source": [
    "df=pd.read_csv(\"TCS.csv\",na_values=['null'],index_col='Date',parse_dates=True,infer_datetime_format=True)"
   ]
  },
  {
   "cell_type": "code",
   "execution_count": 5,
   "id": "479c1f50",
   "metadata": {
    "scrolled": false
   },
   "outputs": [
    {
     "data": {
      "text/html": [
       "<div>\n",
       "<style scoped>\n",
       "    .dataframe tbody tr th:only-of-type {\n",
       "        vertical-align: middle;\n",
       "    }\n",
       "\n",
       "    .dataframe tbody tr th {\n",
       "        vertical-align: top;\n",
       "    }\n",
       "\n",
       "    .dataframe thead th {\n",
       "        text-align: right;\n",
       "    }\n",
       "</style>\n",
       "<table border=\"1\" class=\"dataframe\">\n",
       "  <thead>\n",
       "    <tr style=\"text-align: right;\">\n",
       "      <th></th>\n",
       "      <th>Symbol</th>\n",
       "      <th>Series</th>\n",
       "      <th>Prev Close</th>\n",
       "      <th>Open</th>\n",
       "      <th>High</th>\n",
       "      <th>Low</th>\n",
       "      <th>Last</th>\n",
       "      <th>Close</th>\n",
       "      <th>VWAP</th>\n",
       "      <th>Volume</th>\n",
       "      <th>Turnover</th>\n",
       "      <th>Trades</th>\n",
       "      <th>Deliverable Volume</th>\n",
       "      <th>%Deliverble</th>\n",
       "    </tr>\n",
       "    <tr>\n",
       "      <th>Date</th>\n",
       "      <th></th>\n",
       "      <th></th>\n",
       "      <th></th>\n",
       "      <th></th>\n",
       "      <th></th>\n",
       "      <th></th>\n",
       "      <th></th>\n",
       "      <th></th>\n",
       "      <th></th>\n",
       "      <th></th>\n",
       "      <th></th>\n",
       "      <th></th>\n",
       "      <th></th>\n",
       "      <th></th>\n",
       "    </tr>\n",
       "  </thead>\n",
       "  <tbody>\n",
       "    <tr>\n",
       "      <th>2004-08-25</th>\n",
       "      <td>TCS</td>\n",
       "      <td>EQ</td>\n",
       "      <td>850.00</td>\n",
       "      <td>1198.7</td>\n",
       "      <td>1198.7</td>\n",
       "      <td>979.00</td>\n",
       "      <td>985.00</td>\n",
       "      <td>987.95</td>\n",
       "      <td>1008.32</td>\n",
       "      <td>17116372</td>\n",
       "      <td>1.725876e+15</td>\n",
       "      <td>NaN</td>\n",
       "      <td>5206360</td>\n",
       "      <td>0.3042</td>\n",
       "    </tr>\n",
       "    <tr>\n",
       "      <th>2004-08-26</th>\n",
       "      <td>TCS</td>\n",
       "      <td>EQ</td>\n",
       "      <td>987.95</td>\n",
       "      <td>992.0</td>\n",
       "      <td>997.0</td>\n",
       "      <td>975.30</td>\n",
       "      <td>976.85</td>\n",
       "      <td>979.00</td>\n",
       "      <td>985.65</td>\n",
       "      <td>5055400</td>\n",
       "      <td>4.982865e+14</td>\n",
       "      <td>NaN</td>\n",
       "      <td>1294899</td>\n",
       "      <td>0.2561</td>\n",
       "    </tr>\n",
       "    <tr>\n",
       "      <th>2004-08-27</th>\n",
       "      <td>TCS</td>\n",
       "      <td>EQ</td>\n",
       "      <td>979.00</td>\n",
       "      <td>982.4</td>\n",
       "      <td>982.4</td>\n",
       "      <td>958.55</td>\n",
       "      <td>961.20</td>\n",
       "      <td>962.65</td>\n",
       "      <td>969.94</td>\n",
       "      <td>3830750</td>\n",
       "      <td>3.715586e+14</td>\n",
       "      <td>NaN</td>\n",
       "      <td>976527</td>\n",
       "      <td>0.2549</td>\n",
       "    </tr>\n",
       "    <tr>\n",
       "      <th>2004-08-30</th>\n",
       "      <td>TCS</td>\n",
       "      <td>EQ</td>\n",
       "      <td>962.65</td>\n",
       "      <td>969.9</td>\n",
       "      <td>990.0</td>\n",
       "      <td>965.00</td>\n",
       "      <td>986.40</td>\n",
       "      <td>986.75</td>\n",
       "      <td>982.65</td>\n",
       "      <td>3058151</td>\n",
       "      <td>3.005106e+14</td>\n",
       "      <td>NaN</td>\n",
       "      <td>701664</td>\n",
       "      <td>0.2294</td>\n",
       "    </tr>\n",
       "    <tr>\n",
       "      <th>2004-08-31</th>\n",
       "      <td>TCS</td>\n",
       "      <td>EQ</td>\n",
       "      <td>986.75</td>\n",
       "      <td>986.5</td>\n",
       "      <td>990.0</td>\n",
       "      <td>976.00</td>\n",
       "      <td>987.80</td>\n",
       "      <td>988.10</td>\n",
       "      <td>982.18</td>\n",
       "      <td>2649332</td>\n",
       "      <td>2.602133e+14</td>\n",
       "      <td>NaN</td>\n",
       "      <td>695234</td>\n",
       "      <td>0.2624</td>\n",
       "    </tr>\n",
       "  </tbody>\n",
       "</table>\n",
       "</div>"
      ],
      "text/plain": [
       "           Symbol Series  Prev Close    Open    High     Low    Last   Close  \\\n",
       "Date                                                                           \n",
       "2004-08-25    TCS     EQ      850.00  1198.7  1198.7  979.00  985.00  987.95   \n",
       "2004-08-26    TCS     EQ      987.95   992.0   997.0  975.30  976.85  979.00   \n",
       "2004-08-27    TCS     EQ      979.00   982.4   982.4  958.55  961.20  962.65   \n",
       "2004-08-30    TCS     EQ      962.65   969.9   990.0  965.00  986.40  986.75   \n",
       "2004-08-31    TCS     EQ      986.75   986.5   990.0  976.00  987.80  988.10   \n",
       "\n",
       "               VWAP    Volume      Turnover  Trades  Deliverable Volume  \\\n",
       "Date                                                                      \n",
       "2004-08-25  1008.32  17116372  1.725876e+15     NaN             5206360   \n",
       "2004-08-26   985.65   5055400  4.982865e+14     NaN             1294899   \n",
       "2004-08-27   969.94   3830750  3.715586e+14     NaN              976527   \n",
       "2004-08-30   982.65   3058151  3.005106e+14     NaN              701664   \n",
       "2004-08-31   982.18   2649332  2.602133e+14     NaN              695234   \n",
       "\n",
       "            %Deliverble  \n",
       "Date                     \n",
       "2004-08-25       0.3042  \n",
       "2004-08-26       0.2561  \n",
       "2004-08-27       0.2549  \n",
       "2004-08-30       0.2294  \n",
       "2004-08-31       0.2624  "
      ]
     },
     "execution_count": 5,
     "metadata": {},
     "output_type": "execute_result"
    }
   ],
   "source": [
    "df.head()"
   ]
  },
  {
   "cell_type": "code",
   "execution_count": 6,
   "id": "28abce5c",
   "metadata": {},
   "outputs": [
    {
     "data": {
      "text/plain": [
       "(4139, 14)"
      ]
     },
     "execution_count": 6,
     "metadata": {},
     "output_type": "execute_result"
    }
   ],
   "source": [
    "df.shape"
   ]
  },
  {
   "cell_type": "code",
   "execution_count": 7,
   "id": "69032618",
   "metadata": {
    "scrolled": true
   },
   "outputs": [
    {
     "data": {
      "text/plain": [
       "True"
      ]
     },
     "execution_count": 7,
     "metadata": {},
     "output_type": "execute_result"
    }
   ],
   "source": [
    "df.isnull().values.any()"
   ]
  },
  {
   "cell_type": "code",
   "execution_count": 8,
   "id": "05a9e1ec",
   "metadata": {},
   "outputs": [
    {
     "data": {
      "text/plain": [
       "<AxesSubplot: xlabel='Date'>"
      ]
     },
     "execution_count": 8,
     "metadata": {},
     "output_type": "execute_result"
    },
    {
     "data": {
      "image/png": "[encoded data removed]",
      "text/plain": [
       "<Figure size 432x288 with 1 Axes>"
      ]
     },
     "metadata": {
      "needs_background": "light"
     },
     "output_type": "display_data"
    }
   ],
   "source": [
    "df['Prev Close'].plot()"
   ]
  },
  {
   "cell_type": "code",
   "execution_count": 9,
   "id": "b85b1605",
   "metadata": {},
   "outputs": [],
   "source": [
    "features = ['Open', 'High', 'Low', 'Volume']\n",
    "output_var = pd.DataFrame(df['Prev Close'])"
   ]
  },
  {
   "cell_type": "code",
   "execution_count": 10,
   "id": "3799983e",
   "metadata": {
    "scrolled": true
   },
   "outputs": [
    {
     "data": {
      "text/html": [
       "<div>\n",
       "<style scoped>\n",
       "    .dataframe tbody tr th:only-of-type {\n",
       "        vertical-align: middle;\n",
       "    }\n",
       "\n",
       "    .dataframe tbody tr th {\n",
       "        vertical-align: top;\n",
       "    }\n",
       "\n",
       "    .dataframe thead th {\n",
       "        text-align: right;\n",
       "    }\n",
       "</style>\n",
       "<table border=\"1\" class=\"dataframe\">\n",
       "  <thead>\n",
       "    <tr style=\"text-align: right;\">\n",
       "      <th></th>\n",
       "      <th>Open</th>\n",
       "      <th>High</th>\n",
       "      <th>Low</th>\n",
       "      <th>Volume</th>\n",
       "    </tr>\n",
       "    <tr>\n",
       "      <th>Date</th>\n",
       "      <th></th>\n",
       "      <th></th>\n",
       "      <th></th>\n",
       "      <th></th>\n",
       "    </tr>\n",
       "  </thead>\n",
       "  <tbody>\n",
       "    <tr>\n",
       "      <th>2004-08-25</th>\n",
       "      <td>0.256876</td>\n",
       "      <td>0.248995</td>\n",
       "      <td>0.193184</td>\n",
       "      <td>0.388457</td>\n",
       "    </tr>\n",
       "    <tr>\n",
       "      <th>2004-08-26</th>\n",
       "      <td>0.193568</td>\n",
       "      <td>0.187819</td>\n",
       "      <td>0.192033</td>\n",
       "      <td>0.114439</td>\n",
       "    </tr>\n",
       "    <tr>\n",
       "      <th>2004-08-27</th>\n",
       "      <td>0.190628</td>\n",
       "      <td>0.183391</td>\n",
       "      <td>0.186822</td>\n",
       "      <td>0.086616</td>\n",
       "    </tr>\n",
       "    <tr>\n",
       "      <th>2004-08-30</th>\n",
       "      <td>0.186799</td>\n",
       "      <td>0.185696</td>\n",
       "      <td>0.188829</td>\n",
       "      <td>0.069063</td>\n",
       "    </tr>\n",
       "    <tr>\n",
       "      <th>2004-08-31</th>\n",
       "      <td>0.191884</td>\n",
       "      <td>0.185696</td>\n",
       "      <td>0.192251</td>\n",
       "      <td>0.059774</td>\n",
       "    </tr>\n",
       "  </tbody>\n",
       "</table>\n",
       "</div>"
      ],
      "text/plain": [
       "                Open      High       Low    Volume\n",
       "Date                                              \n",
       "2004-08-25  0.256876  0.248995  0.193184  0.388457\n",
       "2004-08-26  0.193568  0.187819  0.192033  0.114439\n",
       "2004-08-27  0.190628  0.183391  0.186822  0.086616\n",
       "2004-08-30  0.186799  0.185696  0.188829  0.069063\n",
       "2004-08-31  0.191884  0.185696  0.192251  0.059774"
      ]
     },
     "execution_count": 10,
     "metadata": {},
     "output_type": "execute_result"
    }
   ],
   "source": [
    "scaler = MinMaxScaler()\n",
    "feature_transform = scaler.fit_transform(df[features])\n",
    "feature_transform= pd.DataFrame(columns=features, data=feature_transform, index=df.index)\n",
    "feature_transform.head()"
   ]
  },
  {
   "cell_type": "code",
   "execution_count": 11,
   "id": "a38024ab",
   "metadata": {},
   "outputs": [],
   "source": [
    "timesplit= TimeSeriesSplit(n_splits=10)\n",
    "for train_index, test_index in timesplit.split(feature_transform):\n",
    "        X_train, X_test = feature_transform[:len(train_index)], feature_transform[len(train_index): (len(train_index)+len(test_index))]\n",
    "        y_train, y_test = output_var[:len(train_index)].values.ravel(), output_var[len(train_index): (len(train_index)+len(test_index))].values.ravel()"
   ]
  },
  {
   "cell_type": "code",
   "execution_count": 12,
   "id": "4667de65",
   "metadata": {},
   "outputs": [],
   "source": [
    "import tensorflow"
   ]
  },
  {
   "cell_type": "code",
   "execution_count": 13,
   "id": "4584341a",
   "metadata": {
    "scrolled": true
   },
   "outputs": [],
   "source": [
    "trainX = np.array(X_train)\n",
    "testX = np.array(X_test)\n",
    "X_train = trainX.reshape(X_train.shape[0], 1, X_train.shape[1])\n",
    "X_test = testX.reshape(X_test.shape[0], 1, X_test.shape[1])\n"
   ]
  },
  {
   "cell_type": "code",
   "execution_count": 14,
   "id": "694ec81f",
   "metadata": {
    "scrolled": true
   },
   "outputs": [
    {
     "name": "stdout",
     "output_type": "stream",
     "text": [
      "WARNING:tensorflow:From C:\\Users\\Bhavesh gupta\\AppData\\Local\\Programs\\Python\\Python310\\lib\\site-packages\\keras\\src\\backend.py:873: The name tf.get_default_graph is deprecated. Please use tf.compat.v1.get_default_graph instead.\n",
      "\n",
      "WARNING:tensorflow:From C:\\Users\\Bhavesh gupta\\AppData\\Local\\Programs\\Python\\Python310\\lib\\site-packages\\keras\\src\\optimizers\\__init__.py:309: The name tf.train.Optimizer is deprecated. Please use tf.compat.v1.train.Optimizer instead.\n",
      "\n"
     ]
    }
   ],
   "source": [
    "lstm = Sequential()\n",
    "lstm.add(LSTM(32, input_shape=(1, trainX.shape[1]), activation='relu', return_sequences=False))\n",
    "lstm.add(Dense(1))\n",
    "lstm.compile(loss='mean_squared_error', optimizer='adam')"
   ]
  },
  {
   "cell_type": "code",
   "execution_count": 17,
   "id": "693f5309",
   "metadata": {},
   "outputs": [
    {
     "name": "stdout",
     "output_type": "stream",
     "text": [
      "Epoch 1/100\n",
      "WARNING:tensorflow:From C:\\Users\\Bhavesh gupta\\AppData\\Local\\Programs\\Python\\Python310\\lib\\site-packages\\keras\\src\\utils\\tf_utils.py:492: The name tf.ragged.RaggedTensorValue is deprecated. Please use tf.compat.v1.ragged.RaggedTensorValue instead.\n",
      "\n",
      "471/471 [==============================] - 2s 2ms/step - loss: 3095963.7500\n",
      "Epoch 2/100\n",
      "471/471 [==============================] - 1s 2ms/step - loss: 3002994.0000\n",
      "Epoch 3/100\n",
      "471/471 [==============================] - 1s 2ms/step - loss: 2844246.7500\n",
      "Epoch 4/100\n",
      "471/471 [==============================] - 1s 2ms/step - loss: 2643586.2500\n",
      "Epoch 5/100\n",
      "471/471 [==============================] - 1s 2ms/step - loss: 2414888.2500\n",
      "Epoch 6/100\n",
      "471/471 [==============================] - 1s 2ms/step - loss: 2168744.2500\n",
      "Epoch 7/100\n",
      "471/471 [==============================] - 1s 2ms/step - loss: 1914045.7500\n",
      "Epoch 8/100\n",
      "471/471 [==============================] - 1s 2ms/step - loss: 1658522.8750\n",
      "Epoch 9/100\n",
      "471/471 [==============================] - 1s 2ms/step - loss: 1408970.7500\n",
      "Epoch 10/100\n",
      "471/471 [==============================] - 1s 2ms/step - loss: 1171366.2500\n",
      "Epoch 11/100\n",
      "471/471 [==============================] - 1s 2ms/step - loss: 950882.5000\n",
      "Epoch 12/100\n",
      "471/471 [==============================] - 1s 2ms/step - loss: 751845.8750\n",
      "Epoch 13/100\n",
      "471/471 [==============================] - 1s 2ms/step - loss: 577627.3750\n",
      "Epoch 14/100\n",
      "471/471 [==============================] - 1s 2ms/step - loss: 430481.7188\n",
      "Epoch 15/100\n",
      "471/471 [==============================] - 1s 2ms/step - loss: 311364.4375\n",
      "Epoch 16/100\n",
      "471/471 [==============================] - 1s 2ms/step - loss: 219754.0781\n",
      "Epoch 17/100\n",
      "471/471 [==============================] - 1s 2ms/step - loss: 153544.8906\n",
      "Epoch 18/100\n",
      "471/471 [==============================] - 1s 2ms/step - loss: 109107.4375\n",
      "Epoch 19/100\n",
      "471/471 [==============================] - 1s 2ms/step - loss: 81617.8594\n",
      "Epoch 20/100\n",
      "471/471 [==============================] - 1s 2ms/step - loss: 65668.0625\n",
      "Epoch 21/100\n",
      "471/471 [==============================] - 1s 2ms/step - loss: 56034.2500\n",
      "Epoch 22/100\n",
      "471/471 [==============================] - 1s 2ms/step - loss: 48429.5469\n",
      "Epoch 23/100\n",
      "471/471 [==============================] - 1s 2ms/step - loss: 40189.3750\n",
      "Epoch 24/100\n",
      "471/471 [==============================] - 1s 2ms/step - loss: 30901.5176\n",
      "Epoch 25/100\n",
      "471/471 [==============================] - 1s 2ms/step - loss: 21922.1719\n",
      "Epoch 26/100\n",
      "471/471 [==============================] - 1s 2ms/step - loss: 14529.1318\n",
      "Epoch 27/100\n",
      "471/471 [==============================] - 1s 2ms/step - loss: 9137.4775\n",
      "Epoch 28/100\n",
      "471/471 [==============================] - 1s 2ms/step - loss: 5661.1528\n",
      "Epoch 29/100\n",
      "471/471 [==============================] - 1s 2ms/step - loss: 3717.8503\n",
      "Epoch 30/100\n",
      "471/471 [==============================] - 1s 2ms/step - loss: 2778.3774\n",
      "Epoch 31/100\n",
      "471/471 [==============================] - 1s 2ms/step - loss: 2370.9070\n",
      "Epoch 32/100\n",
      "471/471 [==============================] - 1s 2ms/step - loss: 2196.7715\n",
      "Epoch 33/100\n",
      "471/471 [==============================] - 1s 2ms/step - loss: 2112.1172\n",
      "Epoch 34/100\n",
      "471/471 [==============================] - 1s 2ms/step - loss: 2059.6960\n",
      "Epoch 35/100\n",
      "471/471 [==============================] - 1s 2ms/step - loss: 2018.9221\n",
      "Epoch 36/100\n",
      "471/471 [==============================] - 1s 2ms/step - loss: 1982.6708\n",
      "Epoch 37/100\n",
      "471/471 [==============================] - 1s 2ms/step - loss: 1948.5645\n",
      "Epoch 38/100\n",
      "471/471 [==============================] - 1s 2ms/step - loss: 1915.9014\n",
      "Epoch 39/100\n",
      "471/471 [==============================] - 1s 2ms/step - loss: 1884.5760\n",
      "Epoch 40/100\n",
      "471/471 [==============================] - 1s 2ms/step - loss: 1854.6429\n",
      "Epoch 41/100\n",
      "471/471 [==============================] - 1s 2ms/step - loss: 1826.2184\n",
      "Epoch 42/100\n",
      "471/471 [==============================] - 1s 2ms/step - loss: 1799.3765\n",
      "Epoch 43/100\n",
      "471/471 [==============================] - 1s 2ms/step - loss: 1774.1787\n",
      "Epoch 44/100\n",
      "471/471 [==============================] - 1s 2ms/step - loss: 1750.6467\n",
      "Epoch 45/100\n",
      "471/471 [==============================] - 1s 2ms/step - loss: 1728.7821\n",
      "Epoch 46/100\n",
      "471/471 [==============================] - 1s 2ms/step - loss: 1708.5702\n",
      "Epoch 47/100\n",
      "471/471 [==============================] - 1s 2ms/step - loss: 1689.9772\n",
      "Epoch 48/100\n",
      "471/471 [==============================] - 1s 2ms/step - loss: 1672.9641\n",
      "Epoch 49/100\n",
      "471/471 [==============================] - 1s 2ms/step - loss: 1657.4792\n",
      "Epoch 50/100\n",
      "471/471 [==============================] - 1s 2ms/step - loss: 1643.4683\n",
      "Epoch 51/100\n",
      "471/471 [==============================] - 1s 2ms/step - loss: 1630.8704\n",
      "Epoch 52/100\n",
      "471/471 [==============================] - 1s 2ms/step - loss: 1619.6184\n",
      "Epoch 53/100\n",
      "471/471 [==============================] - 1s 2ms/step - loss: 1609.6432\n",
      "Epoch 54/100\n",
      "471/471 [==============================] - 1s 2ms/step - loss: 1600.8727\n",
      "Epoch 55/100\n",
      "471/471 [==============================] - 1s 2ms/step - loss: 1593.2307\n",
      "Epoch 56/100\n",
      "471/471 [==============================] - 2s 4ms/step - loss: 1586.6381\n",
      "Epoch 57/100\n",
      "471/471 [==============================] - 1s 2ms/step - loss: 1581.0087\n",
      "Epoch 58/100\n",
      "471/471 [==============================] - 1s 2ms/step - loss: 1576.2598\n",
      "Epoch 59/100\n",
      "471/471 [==============================] - 1s 2ms/step - loss: 1572.2987\n",
      "Epoch 60/100\n",
      "471/471 [==============================] - 1s 2ms/step - loss: 1569.0337\n",
      "Epoch 61/100\n",
      "471/471 [==============================] - 1s 2ms/step - loss: 1566.3722\n",
      "Epoch 62/100\n",
      "471/471 [==============================] - 1s 2ms/step - loss: 1564.2197\n",
      "Epoch 63/100\n",
      "471/471 [==============================] - 1s 2ms/step - loss: 1562.4895\n",
      "Epoch 64/100\n",
      "471/471 [==============================] - 1s 2ms/step - loss: 1561.1001\n",
      "Epoch 65/100\n",
      "471/471 [==============================] - 1s 2ms/step - loss: 1559.9788\n",
      "Epoch 66/100\n",
      "471/471 [==============================] - 1s 2ms/step - loss: 1559.0631\n",
      "Epoch 67/100\n",
      "471/471 [==============================] - 1s 2ms/step - loss: 1558.3003\n",
      "Epoch 68/100\n",
      "471/471 [==============================] - 1s 2ms/step - loss: 1557.6499\n",
      "Epoch 69/100\n",
      "471/471 [==============================] - 1s 2ms/step - loss: 1557.0798\n",
      "Epoch 70/100\n",
      "471/471 [==============================] - 1s 2ms/step - loss: 1556.5656\n",
      "Epoch 71/100\n",
      "471/471 [==============================] - 1s 2ms/step - loss: 1556.0891\n",
      "Epoch 72/100\n",
      "471/471 [==============================] - 1s 2ms/step - loss: 1555.6342\n",
      "Epoch 73/100\n",
      "471/471 [==============================] - 1s 2ms/step - loss: 1555.1927\n",
      "Epoch 74/100\n",
      "471/471 [==============================] - 1s 2ms/step - loss: 1554.7557\n",
      "Epoch 75/100\n",
      "471/471 [==============================] - 1s 2ms/step - loss: 1554.3185\n",
      "Epoch 76/100\n",
      "471/471 [==============================] - 1s 2ms/step - loss: 1553.8784\n",
      "Epoch 77/100\n",
      "471/471 [==============================] - 1s 2ms/step - loss: 1553.4280\n",
      "Epoch 78/100\n",
      "471/471 [==============================] - 1s 2ms/step - loss: 1552.9688\n",
      "Epoch 79/100\n",
      "471/471 [==============================] - 1s 2ms/step - loss: 1552.4967\n",
      "Epoch 80/100\n",
      "471/471 [==============================] - 1s 2ms/step - loss: 1552.0120\n",
      "Epoch 81/100\n",
      "471/471 [==============================] - 1s 2ms/step - loss: 1551.5134\n",
      "Epoch 82/100\n",
      "471/471 [==============================] - 1s 2ms/step - loss: 1550.9995\n",
      "Epoch 83/100\n",
      "471/471 [==============================] - 1s 2ms/step - loss: 1550.4701\n",
      "Epoch 84/100\n",
      "471/471 [==============================] - 1s 2ms/step - loss: 1549.9244\n",
      "Epoch 85/100\n",
      "471/471 [==============================] - 1s 2ms/step - loss: 1549.3623\n",
      "Epoch 86/100\n",
      "471/471 [==============================] - 1s 2ms/step - loss: 1548.7843\n",
      "Epoch 87/100\n",
      "471/471 [==============================] - 1s 2ms/step - loss: 1548.1880\n",
      "Epoch 88/100\n",
      "471/471 [==============================] - 1s 2ms/step - loss: 1547.5739\n",
      "Epoch 89/100\n",
      "471/471 [==============================] - 1s 2ms/step - loss: 1546.9399\n",
      "Epoch 90/100\n",
      "471/471 [==============================] - 1s 2ms/step - loss: 1546.2883\n",
      "Epoch 91/100\n",
      "471/471 [==============================] - 1s 2ms/step - loss: 1545.6173\n",
      "Epoch 92/100\n"
     ]
    },
    {
     "name": "stdout",
     "output_type": "stream",
     "text": [
      "471/471 [==============================] - 1s 2ms/step - loss: 1544.9252\n",
      "Epoch 93/100\n",
      "471/471 [==============================] - 1s 2ms/step - loss: 1544.2126\n",
      "Epoch 94/100\n",
      "471/471 [==============================] - 1s 2ms/step - loss: 1543.4801\n",
      "Epoch 95/100\n",
      "471/471 [==============================] - 1s 2ms/step - loss: 1542.7246\n",
      "Epoch 96/100\n",
      "471/471 [==============================] - 1s 2ms/step - loss: 1541.9463\n",
      "Epoch 97/100\n",
      "471/471 [==============================] - 1s 2ms/step - loss: 1541.1437\n",
      "Epoch 98/100\n",
      "471/471 [==============================] - 1s 2ms/step - loss: 1540.3185\n",
      "Epoch 99/100\n",
      "471/471 [==============================] - 1s 2ms/step - loss: 1539.4672\n",
      "Epoch 100/100\n",
      "471/471 [==============================] - 1s 2ms/step - loss: 1538.5930\n"
     ]
    }
   ],
   "source": [
    "history=lstm.fit(X_train, y_train, epochs=100, batch_size=8, verbose=1, shuffle=False)"
   ]
  },
  {
   "cell_type": "code",
   "execution_count": 18,
   "id": "ca508b4a",
   "metadata": {
    "scrolled": false
   },
   "outputs": [
    {
     "name": "stdout",
     "output_type": "stream",
     "text": [
      "You must install pydot (`pip install pydot`) and install graphviz (see instructions at https://graphviz.gitlab.io/download/) for plot_model to work.\n"
     ]
    }
   ],
   "source": [
    "plot_model(lstm, show_shapes=True, show_layer_names=True)"
   ]
  },
  {
   "cell_type": "code",
   "execution_count": 20,
   "id": "a95f9698",
   "metadata": {},
   "outputs": [
    {
     "name": "stdout",
     "output_type": "stream",
     "text": [
      "12/12 [==============================] - 0s 2ms/step\n"
     ]
    }
   ],
   "source": [
    "y_pred= lstm.predict(X_test)"
   ]
  },
  {
   "cell_type": "code",
   "execution_count": 21,
   "id": "4169083f",
   "metadata": {},
   "outputs": [
    {
     "data": {
      "image/png": "[encoded data removed]",
      "text/plain": [
       "<Figure size 432x288 with 1 Axes>"
      ]
     },
     "metadata": {
      "needs_background": "light"
     },
     "output_type": "display_data"
    }
   ],
   "source": [
    "plt.plot(y_test, label='True Value')\n",
    "plt.plot(y_pred, label='LSTM Value')\n",
    "plt.title('Prediction by LST')\n",
    "plt.xlabel('Time Scale')\n",
    "plt.ylabel('Scaled USD')\n",
    "plt.legend()\n",
    "plt.show()"
   ]
  }
 ],
 "metadata": {
  "kernelspec": {
   "display_name": "Python 3 (ipykernel)",
   "language": "python",
   "name": "python3"
  },
  "language_info": {
   "codemirror_mode": {
    "name": "ipython",
    "version": 3
   },
   "file_extension": ".py",
   "mimetype": "text/x-python",
   "name": "python",
   "nbconvert_exporter": "python",
   "pygments_lexer": "ipython3",
   "version": "3.10.4"
  }
 },
 "nbformat": 4,
 "nbformat_minor": 5
}
